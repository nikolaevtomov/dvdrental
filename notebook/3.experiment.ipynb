{
 "cells": [
  {
   "cell_type": "markdown",
   "metadata": {},
   "source": [
    "# Experiment with the dvd rental database"
   ]
  },
  {
   "cell_type": "code",
   "execution_count": 16,
   "metadata": {},
   "outputs": [],
   "source": [
    "import pandas as pd\n",
    "import matplotlib.pyplot as plt"
   ]
  },
  {
   "cell_type": "code",
   "execution_count": 2,
   "metadata": {},
   "outputs": [
    {
     "name": "stdout",
     "output_type": "stream",
     "text": [
      "Connecting with connection string : postgresql://postgres:letmein@db:5432/dvdrental\n",
      " * postgresql://postgres:***@db:5432/dvdrental\n",
      "1 rows affected.\n",
      " * postgresql://postgres:***@db:5432/dvdrental\n",
      "1 rows affected.\n",
      " * postgresql://postgres:***@db:5432/dvdrental\n",
      "15 rows affected.\n"
     ]
    }
   ],
   "source": [
    "%run connection.ipynb"
   ]
  },
  {
   "cell_type": "markdown",
   "metadata": {},
   "source": [
    "### How many films rent by each ratings?"
   ]
  },
  {
   "cell_type": "code",
   "execution_count": 3,
   "metadata": {},
   "outputs": [
    {
     "name": "stdout",
     "output_type": "stream",
     "text": [
      " * postgresql://postgres:***@db:5432/dvdrental\n",
      "597 rows affected.\n",
      "Returning data to local variable rent_by_ratings_df\n"
     ]
    }
   ],
   "source": [
    "%%sql rent_by_ratings_df <<\n",
    "\n",
    "SELECT\n",
    "    r.customer_id,\n",
    "    ARRAY_AGG(film.rating)::text[] AS rent_by_ratings\n",
    "\n",
    "FROM rental r\n",
    "    INNER JOIN (\n",
    "        SELECT i.film_id, i.inventory_id FROM inventory i\n",
    "    ) AS inventory ON inventory.inventory_id = r.inventory_id\n",
    "\n",
    "    INNER JOIN (\n",
    "        SELECT f.film_id, f.title, f.rating FROM film f\n",
    "    ) AS film ON film.film_id = inventory.inventory_id\n",
    "\n",
    "GROUP BY 1\n",
    "ORDER BY 1"
   ]
  },
  {
   "cell_type": "code",
   "execution_count": 4,
   "metadata": {},
   "outputs": [
    {
     "data": {
      "text/html": [
       "<div>\n",
       "<style scoped>\n",
       "    .dataframe tbody tr th:only-of-type {\n",
       "        vertical-align: middle;\n",
       "    }\n",
       "\n",
       "    .dataframe tbody tr th {\n",
       "        vertical-align: top;\n",
       "    }\n",
       "\n",
       "    .dataframe thead th {\n",
       "        text-align: right;\n",
       "    }\n",
       "</style>\n",
       "<table border=\"1\" class=\"dataframe\">\n",
       "  <thead>\n",
       "    <tr style=\"text-align: right;\">\n",
       "      <th></th>\n",
       "      <th>customer_id</th>\n",
       "      <th>rent_by_ratings</th>\n",
       "    </tr>\n",
       "  </thead>\n",
       "  <tbody>\n",
       "    <tr>\n",
       "      <th>0</th>\n",
       "      <td>1</td>\n",
       "      <td>[PG-13, PG-13, R, NC-17, R, PG-13, R]</td>\n",
       "    </tr>\n",
       "    <tr>\n",
       "      <th>1</th>\n",
       "      <td>2</td>\n",
       "      <td>[PG-13, G, R, NC-17, G, NC-17, G]</td>\n",
       "    </tr>\n",
       "    <tr>\n",
       "      <th>2</th>\n",
       "      <td>3</td>\n",
       "      <td>[R, PG-13, PG, R, R]</td>\n",
       "    </tr>\n",
       "    <tr>\n",
       "      <th>3</th>\n",
       "      <td>4</td>\n",
       "      <td>[G, NC-17, PG, PG, G, PG-13, G]</td>\n",
       "    </tr>\n",
       "    <tr>\n",
       "      <th>4</th>\n",
       "      <td>5</td>\n",
       "      <td>[NC-17, NC-17, PG, NC-17, PG-13, G, R, R, G, R]</td>\n",
       "    </tr>\n",
       "    <tr>\n",
       "      <th>...</th>\n",
       "      <td>...</td>\n",
       "      <td>...</td>\n",
       "    </tr>\n",
       "    <tr>\n",
       "      <th>592</th>\n",
       "      <td>595</td>\n",
       "      <td>[G, G, NC-17, NC-17, NC-17, NC-17]</td>\n",
       "    </tr>\n",
       "    <tr>\n",
       "      <th>593</th>\n",
       "      <td>596</td>\n",
       "      <td>[R, PG-13, R, G, PG, PG]</td>\n",
       "    </tr>\n",
       "    <tr>\n",
       "      <th>594</th>\n",
       "      <td>597</td>\n",
       "      <td>[NC-17, PG, PG-13, PG, PG-13]</td>\n",
       "    </tr>\n",
       "    <tr>\n",
       "      <th>595</th>\n",
       "      <td>598</td>\n",
       "      <td>[R, PG, R, NC-17]</td>\n",
       "    </tr>\n",
       "    <tr>\n",
       "      <th>596</th>\n",
       "      <td>599</td>\n",
       "      <td>[PG-13, PG, R, NC-17, NC-17]</td>\n",
       "    </tr>\n",
       "  </tbody>\n",
       "</table>\n",
       "<p>597 rows × 2 columns</p>\n",
       "</div>"
      ],
      "text/plain": [
       "     customer_id                                  rent_by_ratings\n",
       "0              1            [PG-13, PG-13, R, NC-17, R, PG-13, R]\n",
       "1              2                [PG-13, G, R, NC-17, G, NC-17, G]\n",
       "2              3                             [R, PG-13, PG, R, R]\n",
       "3              4                  [G, NC-17, PG, PG, G, PG-13, G]\n",
       "4              5  [NC-17, NC-17, PG, NC-17, PG-13, G, R, R, G, R]\n",
       "..           ...                                              ...\n",
       "592          595               [G, G, NC-17, NC-17, NC-17, NC-17]\n",
       "593          596                         [R, PG-13, R, G, PG, PG]\n",
       "594          597                    [NC-17, PG, PG-13, PG, PG-13]\n",
       "595          598                                [R, PG, R, NC-17]\n",
       "596          599                     [PG-13, PG, R, NC-17, NC-17]\n",
       "\n",
       "[597 rows x 2 columns]"
      ]
     },
     "execution_count": 4,
     "metadata": {},
     "output_type": "execute_result"
    }
   ],
   "source": [
    "rent_by_ratings_df"
   ]
  },
  {
   "cell_type": "code",
   "execution_count": 5,
   "metadata": {},
   "outputs": [],
   "source": [
    "def to_frequency_table(data):\n",
    "    frequencytable = {}\n",
    "    for key in data:\n",
    "        if key in frequencytable:\n",
    "            frequencytable[key] += 1\n",
    "        else:\n",
    "            frequencytable[key] = 1\n",
    "    return frequencytable"
   ]
  },
  {
   "cell_type": "code",
   "execution_count": 6,
   "metadata": {},
   "outputs": [],
   "source": [
    "rent_by_ratings_df['rent_by_ratings'] = rent_by_ratings_df['rent_by_ratings'].apply(to_frequency_table)"
   ]
  },
  {
   "cell_type": "code",
   "execution_count": 7,
   "metadata": {},
   "outputs": [],
   "source": [
    "ratings_df = pd.DataFrame(rent_by_ratings_df['rent_by_ratings'].apply(pd.Series))"
   ]
  },
  {
   "cell_type": "code",
   "execution_count": 8,
   "metadata": {},
   "outputs": [
    {
     "data": {
      "text/html": [
       "<div>\n",
       "<style scoped>\n",
       "    .dataframe tbody tr th:only-of-type {\n",
       "        vertical-align: middle;\n",
       "    }\n",
       "\n",
       "    .dataframe tbody tr th {\n",
       "        vertical-align: top;\n",
       "    }\n",
       "\n",
       "    .dataframe thead th {\n",
       "        text-align: right;\n",
       "    }\n",
       "</style>\n",
       "<table border=\"1\" class=\"dataframe\">\n",
       "  <thead>\n",
       "    <tr style=\"text-align: right;\">\n",
       "      <th></th>\n",
       "      <th>PG-13</th>\n",
       "      <th>R</th>\n",
       "      <th>NC-17</th>\n",
       "      <th>G</th>\n",
       "      <th>PG</th>\n",
       "    </tr>\n",
       "  </thead>\n",
       "  <tbody>\n",
       "    <tr>\n",
       "      <th>0</th>\n",
       "      <td>3</td>\n",
       "      <td>3</td>\n",
       "      <td>1</td>\n",
       "      <td>0</td>\n",
       "      <td>0</td>\n",
       "    </tr>\n",
       "    <tr>\n",
       "      <th>1</th>\n",
       "      <td>1</td>\n",
       "      <td>1</td>\n",
       "      <td>2</td>\n",
       "      <td>3</td>\n",
       "      <td>0</td>\n",
       "    </tr>\n",
       "    <tr>\n",
       "      <th>2</th>\n",
       "      <td>1</td>\n",
       "      <td>3</td>\n",
       "      <td>0</td>\n",
       "      <td>0</td>\n",
       "      <td>1</td>\n",
       "    </tr>\n",
       "    <tr>\n",
       "      <th>3</th>\n",
       "      <td>1</td>\n",
       "      <td>0</td>\n",
       "      <td>1</td>\n",
       "      <td>3</td>\n",
       "      <td>2</td>\n",
       "    </tr>\n",
       "    <tr>\n",
       "      <th>4</th>\n",
       "      <td>1</td>\n",
       "      <td>3</td>\n",
       "      <td>3</td>\n",
       "      <td>2</td>\n",
       "      <td>1</td>\n",
       "    </tr>\n",
       "    <tr>\n",
       "      <th>...</th>\n",
       "      <td>...</td>\n",
       "      <td>...</td>\n",
       "      <td>...</td>\n",
       "      <td>...</td>\n",
       "      <td>...</td>\n",
       "    </tr>\n",
       "    <tr>\n",
       "      <th>592</th>\n",
       "      <td>0</td>\n",
       "      <td>0</td>\n",
       "      <td>4</td>\n",
       "      <td>2</td>\n",
       "      <td>0</td>\n",
       "    </tr>\n",
       "    <tr>\n",
       "      <th>593</th>\n",
       "      <td>1</td>\n",
       "      <td>2</td>\n",
       "      <td>0</td>\n",
       "      <td>1</td>\n",
       "      <td>2</td>\n",
       "    </tr>\n",
       "    <tr>\n",
       "      <th>594</th>\n",
       "      <td>2</td>\n",
       "      <td>0</td>\n",
       "      <td>1</td>\n",
       "      <td>0</td>\n",
       "      <td>2</td>\n",
       "    </tr>\n",
       "    <tr>\n",
       "      <th>595</th>\n",
       "      <td>0</td>\n",
       "      <td>2</td>\n",
       "      <td>1</td>\n",
       "      <td>0</td>\n",
       "      <td>1</td>\n",
       "    </tr>\n",
       "    <tr>\n",
       "      <th>596</th>\n",
       "      <td>1</td>\n",
       "      <td>1</td>\n",
       "      <td>2</td>\n",
       "      <td>0</td>\n",
       "      <td>1</td>\n",
       "    </tr>\n",
       "  </tbody>\n",
       "</table>\n",
       "<p>597 rows × 5 columns</p>\n",
       "</div>"
      ],
      "text/plain": [
       "     PG-13  R  NC-17  G  PG\n",
       "0        3  3      1  0   0\n",
       "1        1  1      2  3   0\n",
       "2        1  3      0  0   1\n",
       "3        1  0      1  3   2\n",
       "4        1  3      3  2   1\n",
       "..     ... ..    ... ..  ..\n",
       "592      0  0      4  2   0\n",
       "593      1  2      0  1   2\n",
       "594      2  0      1  0   2\n",
       "595      0  2      1  0   1\n",
       "596      1  1      2  0   1\n",
       "\n",
       "[597 rows x 5 columns]"
      ]
     },
     "execution_count": 8,
     "metadata": {},
     "output_type": "execute_result"
    }
   ],
   "source": [
    "ratings_df.fillna(0).astype('int')"
   ]
  },
  {
   "cell_type": "code",
   "execution_count": 9,
   "metadata": {},
   "outputs": [],
   "source": [
    "transposed_df = ratings_df.transpose().fillna(0).astype('int')"
   ]
  },
  {
   "cell_type": "code",
   "execution_count": 10,
   "metadata": {},
   "outputs": [],
   "source": [
    "transposed_df['Total'] = transposed_df.iloc[:, 1:-1].sum(axis=1)"
   ]
  },
  {
   "cell_type": "code",
   "execution_count": 11,
   "metadata": {},
   "outputs": [
    {
     "data": {
      "text/plain": [
       "PG-13    776\n",
       "R        671\n",
       "NC-17    711\n",
       "G        622\n",
       "PG       683\n",
       "Name: Total, dtype: int64"
      ]
     },
     "execution_count": 11,
     "metadata": {},
     "output_type": "execute_result"
    }
   ],
   "source": [
    "transposed_df['Total']"
   ]
  },
  {
   "cell_type": "code",
   "execution_count": 21,
   "metadata": {},
   "outputs": [
    {
     "data": {
      "text/plain": [
       "Text(0.5, 1.0, 'your title')"
      ]
     },
     "execution_count": 21,
     "metadata": {},
     "output_type": "execute_result"
    },
    {
     "data": {
      "image/png": "[encoded data removed]",
      "text/plain": [
       "<Figure size 432x288 with 1 Axes>"
      ]
     },
     "metadata": {
      "needs_background": "light"
     },
     "output_type": "display_data"
    }
   ],
   "source": [
    "fig, ax = plt.subplots()\n",
    "transposed_df['Total'].plot(kind='bar', ax=ax)\n",
    "plt.title('Number of film rent by ratings')"
   ]
  }
 ],
 "metadata": {
  "interpreter": {
   "hash": "d4d1e4263499bec80672ea0156c357c1ee493ec2b1c70f0acce89fc37c4a6abe"
  },
  "kernelspec": {
   "display_name": "Python 3.9.7 64-bit ('base': conda)",
   "name": "python3"
  },
  "language_info": {
   "codemirror_mode": {
    "name": "ipython",
    "version": 3
   },
   "file_extension": ".py",
   "mimetype": "text/x-python",
   "name": "python",
   "nbconvert_exporter": "python",
   "pygments_lexer": "ipython3",
   "version": "3.9.7"
  },
  "orig_nbformat": 4
 },
 "nbformat": 4,
 "nbformat_minor": 2
}
